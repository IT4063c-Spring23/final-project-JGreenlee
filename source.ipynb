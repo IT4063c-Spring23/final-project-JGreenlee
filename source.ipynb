{
 "cells": [
  {
   "attachments": {},
   "cell_type": "markdown",
   "metadata": {},
   "source": [
    "# The Sustainability of Countries' Development Over Time 📝\n",
    "\n",
    "<!-- ![Banner](./assets/banner.jpeg) -->"
   ]
  },
  {
   "attachments": {},
   "cell_type": "markdown",
   "metadata": {},
   "source": [
    "## Topic\n",
    "*What problem are you (or your stakeholder) trying to address?*\n",
    "📝 <!-- Answer Below -->"
   ]
  },
  {
   "cell_type": "markdown",
   "metadata": {},
   "source": [
    "I want to understand how the development of a country affects sustainability."
   ]
  },
  {
   "attachments": {},
   "cell_type": "markdown",
   "metadata": {},
   "source": [
    "## Project Question\n",
    "*What specific question are you seeking to answer with this project?*\n",
    "*This is not the same as the questions you ask to limit the scope of the project.*\n",
    "📝 <!-- Answer Below -->"
   ]
  },
  {
   "cell_type": "markdown",
   "metadata": {},
   "source": [
    "1) Is the sustainability of a country related to its development and GDP?\n",
    "2) How have these trends differed over time?\n",
    "\n",
    "First, I would like to confirm that the development of a country and its GDP are correlated with its overall carbon emission levels.\n",
    "Then, I would like to view these trends over time and determine whether development nowadays is more or less sustainable than it was in the past."
   ]
  },
  {
   "attachments": {},
   "cell_type": "markdown",
   "metadata": {},
   "source": [
    "## What would an answer look like?\n",
    "*What is your hypothesized answer to your question?*\n",
    "📝 <!-- Answer Below -->"
   ]
  },
  {
   "attachments": {},
   "cell_type": "markdown",
   "metadata": {},
   "source": [
    "If I can establish the trend between the development of a country and its total carbon emissions, particularly over time, we can better understand how development can occur in a more sustainable way.\n",
    "\n",
    "I predict that 1) the total carbon emissions of a country will increase as its GDP increases, and 2) countries that are developing now (in the 21st Century) will have higher total carbon emissions than countries that developed in the 20th Century."
   ]
  },
  {
   "attachments": {},
   "cell_type": "markdown",
   "metadata": {},
   "source": [
    "## Data Sources\n",
    "*What 3 data sources have you identified for this project?*\n",
    "*How are you going to relate these datasets?*\n",
    "📝 <!-- Answer Below -->"
   ]
  },
  {
   "attachments": {},
   "cell_type": "markdown",
   "metadata": {},
   "source": [
    "I have identified the following datasets that I will use:\n",
    "\n",
    "- [ONU Sustainability of Countries Development](https://www.kaggle.com/datasets/vittoriogiatti/unsdg-united-nations-sustainable-development-group)\n",
    "- [Wikipedia - Countries by HDI](https://en.wikipedia.org/wiki/List_of_countries_by_Human_Development_Index)\n",
    "- [CO2 Emissions by Country (per capita)](https://data.worldbank.org/indicator/EN.ATM.CO2E.PC)\n",
    "- [Annual GDP % Growth by Country](https://data.worldbank.org/indicator/NY.GDP.MKTP.KD.ZG)"
   ]
  },
  {
   "attachments": {},
   "cell_type": "markdown",
   "metadata": {},
   "source": [
    "## Approach and Analysis\n",
    "*What is your approach to answering your project question?*\n",
    "*How will you use the identified data to answer your project question?*\n",
    "📝 <!-- Start Discussing the project here; you can add as many code cells as you need -->"
   ]
  },
  {
   "attachments": {},
   "cell_type": "markdown",
   "metadata": {},
   "source": [
    "First, I will aggregate the GDP, CO2 emissions, and HDI data by year and country.\n",
    "I will assess the relationships between those variables in general.\n",
    "\n",
    "Then, I will assess the relationship between the three variables over time. I will also create visualizations that show these relationships (likely line graphs and some maps).\n",
    "\n",
    "Specifically, I will compare countries that developed in the 20th Century (like North America, Western Europe, Australia/NZ, Japan, etc) compared to those that have developed or are still developing in the 21st Century (like China, India, Brazil, etc)."
   ]
  },
  {
   "attachments": {},
   "cell_type": "markdown",
   "metadata": {},
   "source": [
    "## Resources and References\n",
    "*What resources and references have you used for this project?*\n",
    "📝 <!-- Answer Below -->"
   ]
  },
  {
   "cell_type": "code",
   "execution_count": 2,
   "metadata": {},
   "outputs": [
    {
     "name": "stdout",
     "output_type": "stream",
     "text": [
      "[NbConvertApp] Converting notebook source.ipynb to python\n",
      "[NbConvertApp] Writing 1271 bytes to source.py\n"
     ]
    }
   ],
   "source": [
    "# ⚠️ Make sure you run this cell at the end of your notebook before every submission!\n",
    "!jupyter nbconvert --to python source.ipynb"
   ]
  }
 ],
 "metadata": {
  "kernelspec": {
   "display_name": "Python 3",
   "language": "python",
   "name": "python3"
  },
  "language_info": {
   "codemirror_mode": {
    "name": "ipython",
    "version": 3
   },
   "file_extension": ".py",
   "mimetype": "text/x-python",
   "name": "python",
   "nbconvert_exporter": "python",
   "pygments_lexer": "ipython3",
   "version": "3.11.1"
  },
  "orig_nbformat": 4,
  "vscode": {
   "interpreter": {
    "hash": "c3fef8610d8566c5226d9b0fae93b59b7d0be607ce9c84e14c212ce936f9d052"
   }
  }
 },
 "nbformat": 4,
 "nbformat_minor": 2
}
